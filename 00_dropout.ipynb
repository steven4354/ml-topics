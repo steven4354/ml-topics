{
 "cells": [
  {
   "cell_type": "markdown",
   "id": "35168e75",
   "metadata": {},
   "source": [
    "Tests a dog vs. cat classifier with dropout and without dropout"
   ]
  },
  {
   "cell_type": "code",
   "execution_count": 1,
   "id": "8dca6967",
   "metadata": {},
   "outputs": [
    {
     "name": "stderr",
     "output_type": "stream",
     "text": [
      "/usr/local/lib/python3.8/dist-packages/torchvision/io/image.py:13: UserWarning: Failed to load image Python extension: \n",
      "  warn(f\"Failed to load image Python extension: {e}\")\n"
     ]
    }
   ],
   "source": [
    "import torch\n",
    "import torch.nn as nn\n",
    "import torch.optim as optim\n",
    "import torchvision\n",
    "import torchvision.transforms as transforms\n",
    "\n",
    "# Define the device\n",
    "device = torch.device(\"cuda\" if torch.cuda.is_available() else \"cpu\")"
   ]
  },
  {
   "cell_type": "markdown",
   "id": "9c46a871",
   "metadata": {},
   "source": [
    "Load the dataset and apply data augmentation"
   ]
  },
  {
   "cell_type": "code",
   "execution_count": 2,
   "id": "e0b7da94",
   "metadata": {},
   "outputs": [],
   "source": [
    "transform = transforms.Compose([\n",
    "    transforms.Resize((400, 400)),\n",
    "    transforms.RandomHorizontalFlip(),\n",
    "    transforms.ToTensor(),\n",
    "    transforms.Normalize([0.485, 0.456, 0.406], [0.229, 0.224, 0.225])\n",
    "])\n",
    "\n",
    "dataset = torchvision.datasets.ImageFolder(root='./data', transform=transform)\n",
    "\n",
    "# Split the dataset into train and test sets\n",
    "num_samples = len(dataset)\n",
    "train_size = int(0.7 * num_samples)\n",
    "val_size = int(0.15 * num_samples)\n",
    "test_size = num_samples - train_size - val_size\n",
    "train_dataset, val_dataset, test_dataset = torch.utils.data.random_split(dataset, [train_size, val_size, test_size])\n",
    "\n",
    "# verify\n",
    "# for file in dataset.imgs:\n",
    "#     print(file)\n",
    "    \n",
    "    \n",
    "# Define the dataloaders\n",
    "train_dataloader = torch.utils.data.DataLoader(train_dataset, batch_size=64, shuffle=True)\n",
    "val_dataloader = torch.utils.data.DataLoader(val_dataset, batch_size=64, shuffle=False)\n",
    "test_dataloader = torch.utils.data.DataLoader(test_dataset, batch_size=64, shuffle=False)"
   ]
  },
  {
   "cell_type": "markdown",
   "id": "a195c639",
   "metadata": {},
   "source": [
    "Define the model, include forward dropout option"
   ]
  },
  {
   "cell_type": "code",
   "execution_count": 3,
   "id": "aff9bf73",
   "metadata": {},
   "outputs": [],
   "source": [
    "# Define the model\n",
    "class ConvNet(nn.Module):\n",
    "    def __init__(self, dropout=False):\n",
    "        super(ConvNet, self).__init__()\n",
    "        self.dropout = dropout\n",
    "        \n",
    "        # what are all the nums for? how do i set them appropriately?\n",
    "        self.conv1 = nn.Conv2d(3, 8, 3)\n",
    "        self.pool = nn.MaxPool2d(2, 2)\n",
    "        self.conv2 = nn.Conv2d(8, 16, 3)\n",
    "        \n",
    "        # 153664 is from the error message (replace with dif # and see)\n",
    "        self.fc1 = nn.Linear(153664, 128)\n",
    "        self.fc2 = nn.Linear(128, 2)\n",
    "        if self.dropout:\n",
    "            self.dropout = nn.Dropout(p=0.5)\n",
    "\n",
    "    def forward(self, x):\n",
    "        x = self.pool(torch.relu(self.conv1(x)))\n",
    "        x = self.pool(torch.relu(self.conv2(x)))\n",
    "        batch_size, output_channels, height, width = x.shape\n",
    "        input_features = output_channels * height * width\n",
    "        x = x.view(-1, input_features)  # flatten the input tensor\n",
    "        x = torch.relu(self.fc1(x))\n",
    "        if self.dropout:\n",
    "            x = self.dropout(x)\n",
    "        x = self.fc2(x)\n",
    "        return x"
   ]
  },
  {
   "cell_type": "markdown",
   "id": "1c3c16a2",
   "metadata": {},
   "source": [
    "Train & use the model"
   ]
  },
  {
   "cell_type": "code",
   "execution_count": 4,
   "id": "7a3c0d0f",
   "metadata": {},
   "outputs": [
    {
     "name": "stdout",
     "output_type": "stream",
     "text": [
      "Epoch 1/10, Training Loss: 3.817, Validation Loss: 4.932\n",
      "Epoch 2/10, Training Loss: 2.323, Validation Loss: 1.748\n",
      "Epoch 3/10, Training Loss: 1.018, Validation Loss: 0.726\n",
      "Epoch 4/10, Training Loss: 0.652, Validation Loss: 0.689\n",
      "Epoch 5/10, Training Loss: 0.599, Validation Loss: 0.627\n",
      "Epoch 6/10, Training Loss: 0.554, Validation Loss: 0.638\n",
      "Epoch 7/10, Training Loss: 0.510, Validation Loss: 0.644\n",
      "Epoch 8/10, Training Loss: 0.486, Validation Loss: 0.640\n",
      "Epoch 9/10, Training Loss: 0.448, Validation Loss: 0.683\n",
      "Epoch 10/10, Training Loss: 0.410, Validation Loss: 0.685\n"
     ]
    }
   ],
   "source": [
    "# Train the model without dropout\n",
    "model_without_dropout = ConvNet(dropout=False).to(device)\n",
    "criterion = nn.CrossEntropyLoss()\n",
    "optimizer = optim.Adam(model_without_dropout.parameters())\n",
    "\n",
    "train_losses_without_dropout = []\n",
    "val_losses_without_dropout = []\n",
    "\n",
    "num_epochs = 10\n",
    "\n",
    "for epoch in range(num_epochs):\n",
    "    # Training\n",
    "    model_without_dropout.train()\n",
    "    train_loss = 0.0\n",
    "    for images, labels in train_dataloader:\n",
    "        images = images.to(device)\n",
    "        labels = labels.to(device)\n",
    "        optimizer.zero_grad()\n",
    "        outputs = model_without_dropout(images)        \n",
    "        loss = criterion(outputs, labels)\n",
    "        loss.backward()\n",
    "        optimizer.step()\n",
    "        train_loss += loss.item() * images.size(0)\n",
    "    train_loss = train_loss / len(train_dataloader.dataset)\n",
    "    train_losses_without_dropout.append(train_loss)\n",
    "    \n",
    "    # Validation\n",
    "    model_without_dropout.eval()\n",
    "    val_loss = 0.0\n",
    "    \n",
    "    for images, labels in val_dataloader:\n",
    "        images = images.to(device)\n",
    "        labels = labels.to(device)\n",
    "        outputs = model_without_dropout(images)\n",
    "        loss = criterion(outputs, labels)\n",
    "        val_loss += loss.item() * images.size(0)\n",
    "            \n",
    "    val_loss = val_loss / len(val_dataloader.dataset)\n",
    "    val_losses_without_dropout.append(val_loss)\n",
    "    \n",
    "    print(f'Epoch {epoch+1}/{num_epochs}, Training Loss: {train_loss:.3f}, Validation Loss: {val_loss:.3f}')"
   ]
  },
  {
   "cell_type": "code",
   "execution_count": 5,
   "id": "40a3128e",
   "metadata": {},
   "outputs": [
    {
     "name": "stdout",
     "output_type": "stream",
     "text": [
      "Test Accuracy without Dropout: 62.33766233766234\n"
     ]
    }
   ],
   "source": [
    "model_without_dropout.eval()\n",
    "correct = 0\n",
    "total = 0\n",
    "with torch.no_grad():\n",
    "    for images, labels in test_dataloader:\n",
    "        images = images.to(device)\n",
    "        labels = labels.to(device)\n",
    "        outputs = model_without_dropout(images)\n",
    "        _, predicted = torch.max(outputs.data, 1)\n",
    "        total += labels.size(0)\n",
    "        correct += (predicted == labels).sum().item()\n",
    "\n",
    "print(f'Test Accuracy without Dropout: {100 * correct / total}')"
   ]
  },
  {
   "cell_type": "code",
   "execution_count": 6,
   "id": "febe39ed",
   "metadata": {},
   "outputs": [
    {
     "name": "stdout",
     "output_type": "stream",
     "text": [
      "Epoch 1/10, Training Loss: 6.727, Validation Loss: 5.362\n",
      "Epoch 2/10, Training Loss: 2.290, Validation Loss: 1.304\n",
      "Epoch 3/10, Training Loss: 0.882, Validation Loss: 0.876\n",
      "Epoch 4/10, Training Loss: 0.675, Validation Loss: 0.683\n",
      "Epoch 5/10, Training Loss: 0.641, Validation Loss: 0.665\n",
      "Epoch 6/10, Training Loss: 0.549, Validation Loss: 0.688\n",
      "Epoch 7/10, Training Loss: 0.512, Validation Loss: 0.693\n",
      "Epoch 8/10, Training Loss: 0.479, Validation Loss: 0.731\n",
      "Epoch 9/10, Training Loss: 0.469, Validation Loss: 0.744\n",
      "Epoch 10/10, Training Loss: 0.430, Validation Loss: 0.797\n"
     ]
    }
   ],
   "source": [
    "# Train the model with dropout\n",
    "model_with_dropout = ConvNet(dropout=True).to(device)\n",
    "criterion = nn.CrossEntropyLoss()\n",
    "optimizer = optim.Adam(model_with_dropout.parameters())\n",
    "\n",
    "num_epochs = 10\n",
    "\n",
    "train_losses_with_dropout = []\n",
    "val_losses_with_dropout = []\n",
    "\n",
    "for epoch in range(num_epochs):\n",
    "    # Training\n",
    "    model_with_dropout.train()\n",
    "    train_loss = 0.0\n",
    "    for images, labels in train_dataloader:\n",
    "        images = images.to(device)\n",
    "        labels = labels.to(device)\n",
    "        optimizer.zero_grad()\n",
    "        outputs = model_with_dropout(images)\n",
    "        loss = criterion(outputs, labels)\n",
    "        loss.backward()\n",
    "        optimizer.step()\n",
    "        train_loss += loss.item() * images.size(0)\n",
    "    train_loss = train_loss / len(train_dataloader.dataset)\n",
    "    train_losses_with_dropout.append(train_loss)\n",
    "    \n",
    "    # Validation\n",
    "    model_with_dropout.eval()\n",
    "    val_loss = 0.0\n",
    "    for images, labels in val_dataloader:\n",
    "        images = images.to(device)\n",
    "        labels = labels.to(device)\n",
    "        outputs = model_with_dropout(images)\n",
    "        loss = criterion(outputs, labels)\n",
    "        val_loss += loss.item() * images.size(0)\n",
    "    val_loss = val_loss / len(val_dataloader.dataset)\n",
    "    val_losses_with_dropout.append(val_loss)\n",
    "    \n",
    "    print(f'Epoch {epoch+1}/{num_epochs}, Training Loss: {train_loss:.3f}, Validation Loss: {val_loss:.3f}')"
   ]
  },
  {
   "cell_type": "code",
   "execution_count": 7,
   "id": "c0f7380c",
   "metadata": {},
   "outputs": [
    {
     "name": "stdout",
     "output_type": "stream",
     "text": [
      "Test Accuracy with Dropout: 64.93506493506493\n"
     ]
    }
   ],
   "source": [
    "# Test the model\n",
    "model_with_dropout.eval()\n",
    "correct = 0\n",
    "total = 0\n",
    "with torch.no_grad():\n",
    "    for images, labels in test_dataloader:\n",
    "        images = images.to(device)\n",
    "        labels = labels.to(device)\n",
    "        outputs = model_with_dropout(images)\n",
    "        _, predicted = torch.max(outputs.data, 1)\n",
    "        total += labels.size(0)\n",
    "        correct += (predicted == labels).sum().item()\n",
    "\n",
    "print(f'Test Accuracy with Dropout: {100 * correct / total}')"
   ]
  }
 ],
 "metadata": {
  "kernelspec": {
   "display_name": "Python 3 (ipykernel)",
   "language": "python",
   "name": "python3"
  },
  "language_info": {
   "codemirror_mode": {
    "name": "ipython",
    "version": 3
   },
   "file_extension": ".py",
   "mimetype": "text/x-python",
   "name": "python",
   "nbconvert_exporter": "python",
   "pygments_lexer": "ipython3",
   "version": "3.8.10"
  }
 },
 "nbformat": 4,
 "nbformat_minor": 5
}
